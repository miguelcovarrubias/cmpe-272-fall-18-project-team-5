{
    "nbformat_minor": 1, 
    "cells": [
        {
            "source": "## CMPE-272 Big Data\n### Team #5\n", 
            "cell_type": "markdown", 
            "metadata": {}
        }, 
        {
            "source": "### Dataset information:\n#### Name: Digital Music (reviews_Digital_Music_5.json)\n#### Source: http://jmcauley.ucsd.edu/data/amazon/index.html\n#### Sample schema:\n```\n{\n  \"reviewerID\": \"A2SUAM1J3GNN3B\",\n  \"asin\": \"0000013714\",\n  \"reviewerName\": \"J. McDonald\",\n  \"helpful\": [2, 3],\n  \"reviewText\": \"I bought this for my husband who plays the piano.  He is having a wonderful time playing these old hymns.  The music  is at times hard to read because we think the book was published for singing from more than playing from.  Great purchase though!\",\n  \"overall\": 5.0,\n  \"summary\": \"Heavenly Highway Hymns\",\n  \"unixReviewTime\": 1252800000,\n  \"reviewTime\": \"09 13, 2009\"\n}\n```", 
            "cell_type": "markdown", 
            "metadata": {}
        }, 
        {
            "source": "\nimport ibmos2spark\n\n# @hidden_cell\ncredentials = {\n    'endpoint': 'https://s3-api.us-geo.objectstorage.service.networklayer.com',\n    'api_key': '4_r22NrNCwbJmK_Ldw0SidA6tJ2CBQMHwDb0ufQHXKa2',\n    'service_id': 'iam-ServiceId-3999fa4b-f2fc-446e-a22a-b3049f3fde46',\n    'iam_service_endpoint': 'https://iam.ng.bluemix.net/oidc/token'}\n\nconfiguration_name = 'os_3f30c173f8f14d6faa1b70b233b44a49_configs'\ncos = ibmos2spark.CloudObjectStorage(sc, credentials, configuration_name, 'bluemix_cos')\n\nfrom pyspark.sql import SparkSession\nspark = SparkSession.builder.getOrCreate()\n# Since JSON data can be semi-structured and contain additional metadata, it is possible that you might face issues with the DataFrame layout.\n# Please read the documentation of 'SparkSession.read()' to learn more about the possibilities to adjust the data loading.\n# PySpark documentation: http://spark.apache.org/docs/2.0.2/api/python/pyspark.sql.html#pyspark.sql.DataFrameReader.json\n\ndf_data_1 = spark.read.json(cos.url('reviews_Digital_Music_5.json', 'cmpe272bigdata-donotdelete-pr-ajvhabxitk4408'))\ndf_data_1 = df_data_1.withColumn(\"helpful_rating\", df_data_1[\"helpful\"].getItem(0)/ df_data_1[\"helpful\"].getItem(1))\ndf_data_1.take(1)\n", 
            "cell_type": "code", 
            "metadata": {}, 
            "outputs": [
                {
                    "output_type": "execute_result", 
                    "data": {
                        "text/plain": "[Row(asin='5555991584', helpful=[3, 3], overall=5.0, reviewText='It\\'s hard to believe \"Memory of Trees\" came out 11 years ago;it has held up well over the passage of time.It\\'s Enya\\'s last great album before the New Age/pop of \"Amarantine\" and \"Day without rain.\" Back in 1995,Enya still had her creative spark,her own voice.I agree with the reviewer who said that this is her saddest album;it is melancholy,bittersweet,from the opening title song.\"Memory of Trees\" is elegaic&majestic.;\"Pax Deorum\" sounds like it is from a Requiem Mass,it is a dark threnody.Unlike the reviewer who said that this has a \"disconcerting\" blend of spirituality&sensuality;,I don\\'t find it disconcerting at all.\"Anywhere is\" is a hopeful song,looking to possibilities.\"Hope has a place\" is about love,but it is up to the listener to decide if it is romantic,platonic,etc.I\\'ve always had a soft spot for this song.\"On my way home\" is a triumphant ending about return.This is truly a masterpiece of New Age music,a must for any Enya fan!', reviewTime='09 12, 2006', reviewerID='A3EBHHCZO6V2A4', reviewerName='Amaranth \"music fan\"', summary=\"Enya's last great album\", unixReviewTime=1158019200, helpful_rating=1.0)]"
                    }, 
                    "execution_count": 93, 
                    "metadata": {}
                }
            ], 
            "execution_count": 93
        }, 
        {
            "source": "### Dataset count:", 
            "cell_type": "markdown", 
            "metadata": {}
        }, 
        {
            "source": "df_data_1.count()\n", 
            "cell_type": "code", 
            "metadata": {}, 
            "outputs": [
                {
                    "output_type": "execute_result", 
                    "data": {
                        "text/plain": "64706"
                    }, 
                    "execution_count": 94, 
                    "metadata": {}
                }
            ], 
            "execution_count": 94
        }, 
        {
            "source": "### Top 10 albums with the best raitings and the most helpful comments:", 
            "cell_type": "markdown", 
            "metadata": {}
        }, 
        {
            "source": "from pyspark.sql.functions import *\n\ndf_data_1.filter(\"overall = 5.0 and helpful_rating = 1.0\") \\\n         .groupBy(\"asin\") \\\n         .agg({\"helpful_rating\": \"count\"}) \\\n         .sort(\"count(helpful_rating)\", ascending=False).take(10) \\\n", 
            "cell_type": "code", 
            "metadata": {
                "scrolled": true
            }, 
            "outputs": [
                {
                    "output_type": "execute_result", 
                    "data": {
                        "text/plain": "[Row(asin='B000003AEK', count(helpful_rating)=69),\n Row(asin='B0000025RI', count(helpful_rating)=65),\n Row(asin='B000001A5X', count(helpful_rating)=62),\n Row(asin='B000002NJS', count(helpful_rating)=53),\n Row(asin='B000002OPL', count(helpful_rating)=50),\n Row(asin='B000001Y15', count(helpful_rating)=48),\n Row(asin='B00003002C', count(helpful_rating)=47),\n Row(asin='B00000163G', count(helpful_rating)=46),\n Row(asin='B000023VR6', count(helpful_rating)=45),\n Row(asin='B000002LGQ', count(helpful_rating)=43)]"
                    }, 
                    "execution_count": 98, 
                    "metadata": {}
                }
            ], 
            "execution_count": 98
        }, 
        {
            "source": "### What else to query?", 
            "cell_type": "markdown", 
            "metadata": {}
        }, 
        {
            "source": "", 
            "cell_type": "code", 
            "metadata": {}, 
            "outputs": [], 
            "execution_count": null
        }
    ], 
    "metadata": {
        "kernelspec": {
            "display_name": "Python 3.5 with Spark", 
            "name": "python3", 
            "language": "python3"
        }, 
        "language_info": {
            "mimetype": "text/x-python", 
            "nbconvert_exporter": "python", 
            "version": "3.5.4", 
            "name": "python", 
            "pygments_lexer": "ipython3", 
            "file_extension": ".py", 
            "codemirror_mode": {
                "version": 3, 
                "name": "ipython"
            }
        }
    }, 
    "nbformat": 4
}